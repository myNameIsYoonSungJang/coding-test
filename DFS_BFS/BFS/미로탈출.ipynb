{
 "cells": [
  {
   "cell_type": "markdown",
   "metadata": {},
   "source": [
    "# 미로탈출 - BFS"
   ]
  },
  {
   "cell_type": "markdown",
   "metadata": {},
   "source": [
    "### 공부중"
   ]
  },
  {
   "cell_type": "code",
   "execution_count": 1,
   "metadata": {},
   "outputs": [
    {
     "name": "stdout",
     "output_type": "stream",
     "text": [
      "10\n"
     ]
    }
   ],
   "source": [
    "from collections import deque\n",
    "\n",
    "n, m = map(int, input().split())\n",
    "\n",
    "graph = []\n",
    "for i in range(n):\n",
    "        graph.append(list(map(int, input())))\n",
    "\n",
    "# 이동할 네 방향 정의 (상, 하, 좌, 우)\n",
    "dx = [-1, 1, 0, 0]\n",
    "dy = [0, 0, -1, 1]\n",
    "\n",
    "# BFS 소스코드 구현\n",
    "def bfs(x, y):\n",
    "        # 큐(queue) 구현을 위해 deque 라이브러리 사용\n",
    "        queue = deque()\n",
    "        queue.append((x, y))\n",
    "        # 큐가 빌 때까지 반복\n",
    "        while queue:\n",
    "                x, y = queue.popleft()\n",
    "                # 현재 위치에서 네 방향으로의 위치 확인\n",
    "                for i in range(4):\n",
    "                        nx = x + dx[i]\n",
    "                        ny = y + dy[i]\n",
    "                        # 미로 찾기 공간을 벗어난 경우 무시\n",
    "                        if nx < 0 or ny < 0 or nx >= n or ny >= m:\n",
    "                                continue\n",
    "                        # 괴물이 있는 경우 무시\n",
    "                        if graph[nx][ny] == 0:\n",
    "                                continue\n",
    "                        # 해당 노드를 처음 방문하는 경우에만 최단 거리 기록\n",
    "                        if graph[nx][ny] == 1:\n",
    "                                graph[nx][ny] = graph[x][y] + 1\n",
    "                                queue.append((nx, ny))\n",
    "        # 가장 오른쪽 아래까지의 최단 거리 변환\n",
    "        return graph[n-1][m-1]\n",
    "\n",
    "# BFS를 수행한 결과 출력\n",
    "print(bfs(0,0))\n",
    "                                        "
   ]
  }
 ],
 "metadata": {
  "kernelspec": {
   "display_name": "base",
   "language": "python",
   "name": "python3"
  },
  "language_info": {
   "codemirror_mode": {
    "name": "ipython",
    "version": 3
   },
   "file_extension": ".py",
   "mimetype": "text/x-python",
   "name": "python",
   "nbconvert_exporter": "python",
   "pygments_lexer": "ipython3",
   "version": "3.9.13"
  },
  "orig_nbformat": 4
 },
 "nbformat": 4,
 "nbformat_minor": 2
}
