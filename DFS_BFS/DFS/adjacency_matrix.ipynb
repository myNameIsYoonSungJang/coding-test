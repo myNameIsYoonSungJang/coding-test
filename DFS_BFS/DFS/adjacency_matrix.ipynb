{
 "cells": [
  {
   "cell_type": "markdown",
   "metadata": {},
   "source": [
    "# 인접 행렬 예제"
   ]
  },
  {
   "cell_type": "code",
   "execution_count": 1,
   "metadata": {},
   "outputs": [
    {
     "name": "stdout",
     "output_type": "stream",
     "text": [
      "[[0, 7, 5], [7, 0, inf], [5, inf, 0]]\n"
     ]
    }
   ],
   "source": [
    "INF = float(\"inf\")\n",
    "# or INF = 999999999999999999999999999999999999999999999999999999\n",
    "\n",
    "# 2차원 리스트를 이용해 인접 행렬 표현\n",
    "graph = [\n",
    "    [0, 7, 5],\n",
    "    [7, 0, INF],\n",
    "    [5, INF, 0]\n",
    "]\n",
    "\n",
    "print(graph)"
   ]
  },
  {
   "cell_type": "markdown",
   "metadata": {},
   "source": [
    "* 인접 행렬 방식은 2차원 배열에 각 노드가 연결된 형태를 기록하는 방식이다.\n",
    "* 연결이 되어있지 않은 노드끼리는 INF(무한)이라고 작성한다."
   ]
  }
 ],
 "metadata": {
  "kernelspec": {
   "display_name": "base",
   "language": "python",
   "name": "python3"
  },
  "language_info": {
   "codemirror_mode": {
    "name": "ipython",
    "version": 3
   },
   "file_extension": ".py",
   "mimetype": "text/x-python",
   "name": "python",
   "nbconvert_exporter": "python",
   "pygments_lexer": "ipython3",
   "version": "3.9.13"
  },
  "orig_nbformat": 4
 },
 "nbformat": 4,
 "nbformat_minor": 2
}
