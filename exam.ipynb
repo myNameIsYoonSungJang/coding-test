{
 "cells": [
  {
   "cell_type": "code",
   "execution_count": 28,
   "metadata": {},
   "outputs": [
    {
     "name": "stdout",
     "output_type": "stream",
     "text": [
      "a\n",
      "con\n",
      "ba\n"
     ]
    }
   ],
   "source": [
    "n, m = map(int, input().split())\n",
    "\n",
    "word_list = [input() for _ in range(n)]\n",
    "word_dict = {}\n",
    "\n",
    "for i in range(len(word_list)):\n",
    "    \n",
    "    if len(word_list[i]) < m:\n",
    "        continue\n",
    "    \n",
    "    if word_list[i] in word_dict:\n",
    "        word_dict[word_list[i]] += 1\n",
    "    else:\n",
    "        word_dict[word_list[i]] = 1\n",
    "\n",
    "new_list = sorted(word_dict.items(), key = lambda x:(-x[1], -len(x[0]), x[0]))\n",
    "\n",
    "for i in new_list:\n",
    "    print(i[0])\n"
   ]
  },
  {
   "cell_type": "code",
   "execution_count": null,
   "metadata": {},
   "outputs": [],
   "source": []
  }
 ],
 "metadata": {
  "kernelspec": {
   "display_name": "base",
   "language": "python",
   "name": "python3"
  },
  "language_info": {
   "codemirror_mode": {
    "name": "ipython",
    "version": 3
   },
   "file_extension": ".py",
   "mimetype": "text/x-python",
   "name": "python",
   "nbconvert_exporter": "python",
   "pygments_lexer": "ipython3",
   "version": "3.9.13"
  },
  "orig_nbformat": 4
 },
 "nbformat": 4,
 "nbformat_minor": 2
}
