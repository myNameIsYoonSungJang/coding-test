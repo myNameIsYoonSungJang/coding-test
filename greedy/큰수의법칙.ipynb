{
 "cells": [
  {
   "cell_type": "markdown",
   "id": "5822c30c-b191-415f-bd63-5cda0925ef74",
   "metadata": {},
   "source": [
    "# 큰 수의 법칙 - Greedy"
   ]
  },
  {
   "cell_type": "code",
   "execution_count": 2,
   "id": "f278c6fc-175c-4c87-9a8e-48f7b089a243",
   "metadata": {},
   "outputs": [],
   "source": [
    "info = \"5 8 3\"\n",
    "datalist = \"2,4,5,4,6\""
   ]
  },
  {
   "cell_type": "code",
   "execution_count": 17,
   "id": "54d6bcd7-b3f4-44ee-8dff-d0b8383525ea",
   "metadata": {},
   "outputs": [
    {
     "name": "stdout",
     "output_type": "stream",
     "text": [
      "46\n"
     ]
    }
   ],
   "source": [
    "# 내가 짠 알고리즘\n",
    "n, m, k = map(int, info.split())\n",
    "arr = list(map(int, datalist.split(\",\")))\n",
    "cnt = 0\n",
    "total = 0\n",
    "\n",
    "arr = sorted(arr, reverse=True)\n",
    "\n",
    "for i in range(m):\n",
    "    cnt += 1\n",
    "    if cnt % (k+1) == 0:\n",
    "        total += arr[1]\n",
    "    else:\n",
    "        total += arr[0]\n",
    "print(total)"
   ]
  },
  {
   "cell_type": "markdown",
   "id": "f3e4b6fd-cf82-4881-b4ac-0bc800f36ffc",
   "metadata": {},
   "source": [
    "## 문제 해설"
   ]
  },
  {
   "cell_type": "code",
   "execution_count": 3,
   "id": "1b4d2fb2-1349-4d47-992d-12ad740adc47",
   "metadata": {},
   "outputs": [
    {
     "name": "stdout",
     "output_type": "stream",
     "text": [
      "46\n"
     ]
    }
   ],
   "source": [
    "n, m, k = map(int, info.split())\n",
    "data = list(map(int, datalist.split(\",\")))\n",
    "\n",
    "#가장 큰 수와 그 다음으로 큰 수를 정하여 횟수만큼 더해준다.\n",
    "# 변수에 값을 저장하면 배열의 인덱스를 계속 참조하는 일이 없다.\n",
    "data.sort()\n",
    "first = data[n-1]\n",
    "second = data[n-2]\n",
    "\n",
    "result = 0\n",
    "\n",
    "while True:\n",
    "    for i in range(k): # 가장 큰 수를  K번 더하기\n",
    "        if m == 0:\n",
    "            break;\n",
    "        result += first\n",
    "        m -= 1\n",
    "    if m == 0:\n",
    "        break;\n",
    "    result += second\n",
    "    m -= 1\n",
    "    \n",
    "print(result)"
   ]
  }
 ],
 "metadata": {
  "kernelspec": {
   "display_name": "Python 3 (ipykernel)",
   "language": "python",
   "name": "python3"
  },
  "language_info": {
   "codemirror_mode": {
    "name": "ipython",
    "version": 3
   },
   "file_extension": ".py",
   "mimetype": "text/x-python",
   "name": "python",
   "nbconvert_exporter": "python",
   "pygments_lexer": "ipython3",
   "version": "3.9.13"
  }
 },
 "nbformat": 4,
 "nbformat_minor": 5
}
