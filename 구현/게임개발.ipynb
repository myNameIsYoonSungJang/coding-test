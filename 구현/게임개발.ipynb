{
 "cells": [
  {
   "attachments": {},
   "cell_type": "markdown",
   "id": "5386c69c-45a7-4c93-8d48-fdf1a1af239c",
   "metadata": {},
   "source": [
    "# 게임 개발 - 구현"
   ]
  },
  {
   "cell_type": "code",
   "execution_count": 3,
   "id": "487f7381-3256-4534-a7da-0d398353435f",
   "metadata": {},
   "outputs": [],
   "source": [
    "n, m = map(int, \"4 4\".split())\n",
    "row, col, way = map(int, \"1 1 0\".split())\n",
    "matrix = [list(map(int, input().split())) for _ in range(n)]"
   ]
  },
  {
   "attachments": {},
   "cell_type": "markdown",
   "id": "63650b0a-5d72-44cc-ab6b-d725120c310d",
   "metadata": {},
   "source": [
    "## 내가 작성한 코드 (공부하여 새로 작성한 코드)"
   ]
  },
  {
   "cell_type": "code",
   "execution_count": 18,
   "id": "b4e9ecd1-7791-410a-9669-b8ed3ebd85c1",
   "metadata": {},
   "outputs": [
    {
     "name": "stdout",
     "output_type": "stream",
     "text": [
      "3\n"
     ]
    }
   ],
   "source": [
    "n, m = map(int, input().split())\n",
    "x, y, direction = map(int, input().split())\n",
    "\n",
    "walkmap = [[0] * m for _ in range(n)]\n",
    "walkmap[x][y] = 1\n",
    "\n",
    "street = []\n",
    "for i in range(n):\n",
    "    street.append(list(map(int, input().split())))\n",
    "\n",
    "def turn_left():\n",
    "    global direction\n",
    "    direction -= 1\n",
    "    if direction == -1:\n",
    "        direction = 3\n",
    "\n",
    "dx = [-1, 0, 1, 0]\n",
    "dy = [0, 1, 0, -1]\n",
    "\n",
    "turn_cnt = 0\n",
    "result = 1\n",
    "while True:\n",
    "    turn_left()\n",
    "    nx = x + dx[direction]\n",
    "    ny = y + dy[direction]\n",
    "    \n",
    "    if walkmap[nx][ny] == 0 and street[nx][ny] == 0:\n",
    "        walkmap[nx][ny] = 1\n",
    "        x = nx\n",
    "        y = ny\n",
    "        turn_cnt = 0\n",
    "        result += 1\n",
    "        continue\n",
    "    else:\n",
    "        turn_cnt += 1\n",
    "    \n",
    "    if turn_cnt == 4:\n",
    "        nx = x - dx[direction]\n",
    "        ny = y - dy[direction]\n",
    "        if walkmap[nx][ny] == 1:\n",
    "            break\n",
    "        else:\n",
    "            x = nx\n",
    "            y = ny\n",
    "        turn_cnt = 0  \n",
    "print(result)"
   ]
  },
  {
   "attachments": {},
   "cell_type": "markdown",
   "id": "0f4e2441-774b-42ea-a966-34b793921158",
   "metadata": {},
   "source": [
    "## 문제 해설"
   ]
  },
  {
   "cell_type": "code",
   "execution_count": 5,
   "id": "0bcf7929-fa24-4bc4-9504-c1426a60ce0e",
   "metadata": {},
   "outputs": [
    {
     "name": "stdout",
     "output_type": "stream",
     "text": [
      "3\n"
     ]
    }
   ],
   "source": [
    "# N, M을 공백으로 구분하여 입력받기\n",
    "n, m = map(int, input().split())\n",
    "\n",
    "# 방문한 위치를 저장하기 위한 맵을 생성하여 0으로 초기화\n",
    "d = [[0] * m for _ in range(n)]\n",
    "# 현재 캐릭터의 X 좌표, Y 좌표, 방향을 입력받기\n",
    "x, y, direction = map(int, input().split())\n",
    "d[x][y] = 1 # 현재 좌표 방문 처리\n",
    "\n",
    "# 전체 맵 정보를 입력받기\n",
    "array = []\n",
    "for i in range(n):\n",
    "    array.append(list(map(int, input().split())))\n",
    "\n",
    "# 북, 동, 남, 서 방향 정의\n",
    "dx = [-1, 0, 1, 0]\n",
    "dy = [0, 1, 0, -1]\n",
    "\n",
    "# 왼쪽으로 회전\n",
    "def turn_left():\n",
    "    global direction\n",
    "    direction -= 1\n",
    "    if direction == -1:\n",
    "        direction = 3\n",
    "\n",
    "# 시뮬레이션 시작\n",
    "count = 1\n",
    "turn_time = 0\n",
    "while True:\n",
    "    # 왼쪽으로 회전\n",
    "    turn_left()\n",
    "    nx = x + dx[direction]\n",
    "    ny = y + dy[direction]\n",
    "    # 회전한 이후 정면에 가보지 않은 칸이 존재하는 경우 이동\n",
    "    if d[nx][ny] == 0 and array[nx][ny] == 0:\n",
    "        d[nx][ny] = 1\n",
    "        x = nx\n",
    "        y = ny\n",
    "        count += 1\n",
    "        turn_time = 0\n",
    "        continue\n",
    "    # 회전한 이후 정면에 가보지 않은 칸이 없거나 바다인 경우\n",
    "    else:\n",
    "        turn_time += 1\n",
    "    # 네 방향 모두 갈 수 없는 경우\n",
    "    if turn_time == 4:\n",
    "        nx = x - dx[direction]\n",
    "        ny = y - dy[direction]\n",
    "        # 뒤로 갈 수 있다면 이동하기\n",
    "        if array[nx][ny] == 0:\n",
    "            x = nx\n",
    "            y = ny\n",
    "        # 뒤가 바다로 막혀있는 경우\n",
    "        else:\n",
    "            break\n",
    "        turn_time = 0\n",
    "\n",
    "# 정답 출력\n",
    "print(count)"
   ]
  },
  {
   "attachments": {},
   "cell_type": "markdown",
   "id": "2ca60268",
   "metadata": {},
   "source": [
    "## 오답노트"
   ]
  },
  {
   "cell_type": "code",
   "execution_count": 8,
   "id": "348d8c80",
   "metadata": {},
   "outputs": [
    {
     "name": "stdout",
     "output_type": "stream",
     "text": [
      "[[0, 0, 0, 0], [0, 0, 0, 0], [0, 0, 0, 0], [0, 0, 0, 0]]\n"
     ]
    }
   ],
   "source": [
    "n, m = map(int, input().split())\n",
    "x, y, direction = map(int, input().split())\n",
    "walkmap = [[0] * m for _ in range(n)]\n",
    "walkmap[x][y] = 1\n",
    "\n",
    "realmap = [list(map(int, input().split())) for _ in range(n)]\n",
    "\n",
    "def turn_left():\n",
    "    direction -= 1\n",
    "    if direction == -1:\n",
    "        direction = 3\n",
    "    return direction"
   ]
  },
  {
   "attachments": {},
   "cell_type": "markdown",
   "id": "036e6beb",
   "metadata": {},
   "source": [
    "## 몰랐던 방법"
   ]
  },
  {
   "cell_type": "code",
   "execution_count": 31,
   "id": "df55d61e",
   "metadata": {},
   "outputs": [
    {
     "name": "stdout",
     "output_type": "stream",
     "text": [
      "num :  0\n",
      "100\n",
      "num :  100\n",
      "\n",
      "100\n",
      "100\n",
      "\n",
      "100\n",
      "1\n"
     ]
    }
   ],
   "source": [
    "#[0] * 4\n",
    "num = 0\n",
    "def numglobal():\n",
    "    global num\n",
    "    num = 100\n",
    "    print(num)\n",
    "\n",
    "def numnonlocal():\n",
    "    num = 1\n",
    "    \n",
    "    def numchange():\n",
    "        nonlocal num\n",
    "        num = 100\n",
    "        print(num)\n",
    "    \n",
    "    numchange()\n",
    "    print(num)\n",
    "\n",
    "def numlocal():\n",
    "    num = 1\n",
    "    \n",
    "    def numchange():\n",
    "        num = 100\n",
    "        print(num)\n",
    "    \n",
    "    numchange()\n",
    "    print(num)\n",
    "\n",
    "print(\"num : \", num)\n",
    "numglobal()\n",
    "print(\"num : \", num)\n",
    "print()\n",
    "numnonlocal()\n",
    "print()\n",
    "numlocal()"
   ]
  }
 ],
 "metadata": {
  "kernelspec": {
   "display_name": "Python 3 (ipykernel)",
   "language": "python",
   "name": "python3"
  },
  "language_info": {
   "codemirror_mode": {
    "name": "ipython",
    "version": 3
   },
   "file_extension": ".py",
   "mimetype": "text/x-python",
   "name": "python",
   "nbconvert_exporter": "python",
   "pygments_lexer": "ipython3",
   "version": "3.9.13"
  }
 },
 "nbformat": 4,
 "nbformat_minor": 5
}
