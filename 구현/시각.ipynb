{
 "cells": [
  {
   "cell_type": "markdown",
   "id": "5386c69c-45a7-4c93-8d48-fdf1a1af239c",
   "metadata": {},
   "source": [
    "# 시각 - 구현"
   ]
  },
  {
   "cell_type": "code",
   "execution_count": 1,
   "id": "487f7381-3256-4534-a7da-0d398353435f",
   "metadata": {},
   "outputs": [],
   "source": [
    "time = 5"
   ]
  },
  {
   "cell_type": "markdown",
   "id": "63650b0a-5d72-44cc-ab6b-d725120c310d",
   "metadata": {},
   "source": [
    "## 내가 작성한 코드"
   ]
  },
  {
   "cell_type": "code",
   "execution_count": 8,
   "id": "4959a954-b1dd-4043-bf33-2d4f9d867bf5",
   "metadata": {},
   "outputs": [
    {
     "name": "stdout",
     "output_type": "stream",
     "text": [
      "11475\n"
     ]
    }
   ],
   "source": [
    "h = 0\n",
    "m = 0\n",
    "s = 0\n",
    "cnt = 0\n",
    "while not(h == time and m == 59 and s == 59):\n",
    "    s += 1\n",
    "    \n",
    "    if s == 60:\n",
    "        s -= 60\n",
    "        m += 1\n",
    "    if m == 60:\n",
    "        m -= 60\n",
    "        h += 1\n",
    "    if '3' in str(s) or '3' in str(m) or '3' in str(h):\n",
    "        cnt += 1\n",
    "print(cnt)"
   ]
  },
  {
   "cell_type": "markdown",
   "id": "0f4e2441-774b-42ea-a966-34b793921158",
   "metadata": {},
   "source": [
    "## 문제 해설"
   ]
  },
  {
   "cell_type": "code",
   "execution_count": 9,
   "id": "0bcf7929-fa24-4bc4-9504-c1426a60ce0e",
   "metadata": {},
   "outputs": [
    {
     "name": "stdin",
     "output_type": "stream",
     "text": [
      " 5\n"
     ]
    },
    {
     "name": "stdout",
     "output_type": "stream",
     "text": [
      "11475\n"
     ]
    }
   ],
   "source": [
    "# H를 입력받기\n",
    "h = int(input())\n",
    "\n",
    "count = 0\n",
    "for i in range(h + 1):\n",
    "    for j in range(60):\n",
    "        for k in range(60):\n",
    "            # 매 시각 안에 '3'이 포함되어 있다면 카운트 증가\n",
    "            if '3' in str(i) + str(j) + str(k):\n",
    "                count += 1\n",
    "print(count)"
   ]
  },
  {
   "cell_type": "markdown",
   "id": "93cc0b08-60bf-41c0-a360-185cf171439e",
   "metadata": {},
   "source": [
    "* 3중 for문을 사용하였지만 2차 3차 for문의 크기가 60으로 고정임으로 비효율적이지 않다.\n",
    "    str을 다 더해주는 방식으로 or을 사용하지"
   ]
  }
 ],
 "metadata": {
  "kernelspec": {
   "display_name": "Python 3 (ipykernel)",
   "language": "python",
   "name": "python3"
  },
  "language_info": {
   "codemirror_mode": {
    "name": "ipython",
    "version": 3
   },
   "file_extension": ".py",
   "mimetype": "text/x-python",
   "name": "python",
   "nbconvert_exporter": "python",
   "pygments_lexer": "ipython3",
   "version": "3.9.13"
  }
 },
 "nbformat": 4,
 "nbformat_minor": 5
}
