{
 "cells": [
  {
   "cell_type": "markdown",
   "id": "5386c69c-45a7-4c93-8d48-fdf1a1af239c",
   "metadata": {},
   "source": [
    "# 왕실의 나이트 - 구현"
   ]
  },
  {
   "cell_type": "code",
   "execution_count": 1,
   "id": "487f7381-3256-4534-a7da-0d398353435f",
   "metadata": {},
   "outputs": [],
   "source": [
    "position = \"a1\"\n",
    "a,b = position[0], position[1]"
   ]
  },
  {
   "cell_type": "markdown",
   "id": "63650b0a-5d72-44cc-ab6b-d725120c310d",
   "metadata": {},
   "source": [
    "## 내가 작성한 코드"
   ]
  },
  {
   "cell_type": "code",
   "execution_count": 2,
   "id": "b4e9ecd1-7791-410a-9669-b8ed3ebd85c1",
   "metadata": {},
   "outputs": [
    {
     "name": "stdout",
     "output_type": "stream",
     "text": [
      "2\n"
     ]
    }
   ],
   "source": [
    "x = int(position[1])\n",
    "y = ord(position[0]) - 96\n",
    "\n",
    "count = 0\n",
    "if x < 7 and y < 8:\n",
    "    count += 1\n",
    "if x < 8 and y < 7:\n",
    "    count += 1\n",
    "if x > 1 and y < 7:\n",
    "    count += 1\n",
    "if x > 2 and y < 8:\n",
    "    count += 1\n",
    "if x > 2 and y > 1:\n",
    "    count += 1\n",
    "if x > 1 and y > 2:\n",
    "    count += 1\n",
    "if x < 8 and y > 2:\n",
    "    count += 1\n",
    "if x < 7 and y > 1:\n",
    "    count += 1\n",
    "print(count)"
   ]
  },
  {
   "cell_type": "markdown",
   "id": "0f4e2441-774b-42ea-a966-34b793921158",
   "metadata": {},
   "source": [
    "## 문제 해설"
   ]
  },
  {
   "cell_type": "code",
   "execution_count": 3,
   "id": "0bcf7929-fa24-4bc4-9504-c1426a60ce0e",
   "metadata": {},
   "outputs": [
    {
     "name": "stdout",
     "output_type": "stream",
     "text": [
      "2\n"
     ]
    }
   ],
   "source": [
    "# 현재 나이트의 위치 입력받기\n",
    "input_data = input()\n",
    "row = int(input_data[1])\n",
    "column = int(ord(input_data[0])) - int(ord('a')) + 1\n",
    "\n",
    "# 나이트가 이동할 수 있는 8가지 방향 정의\n",
    "steps = [(-2, -1), (-1, -2), (1, -2), (2, -1), (2, 1), (1, 2), (-1, 2), (-2, 1)]\n",
    "\n",
    "# 8가지 방향에 대하여 각 위치로 이동이 가능한지 확인\n",
    "result = 0\n",
    "for step in steps:\n",
    "    # 이동하고자 하는 위치 확인\n",
    "    next_row = row + step[0]\n",
    "    next_column = column + step[1]\n",
    "    # 해당 위치로 이동이 가능하다면 카운트 증가\n",
    "    if next_row >= 1 and next_row <= 8 and next_column >= 1 and next_column <= 8:\n",
    "        result += 1\n",
    "\n",
    "print(result)"
   ]
  },
  {
   "cell_type": "markdown",
   "id": "0149189a-19b9-4713-97e0-12c617463d8b",
   "metadata": {},
   "source": [
    "* 하나하나 if문을 사용한 코드보다 step을 하나씩 저장하여 꺼내 사용하는 것이 더 범용적인 코드가 될 수 있을 것 같다.   \n",
    "    또한 조건문을 한 step에 한번만 보면 되기 때문에 시간 복잡도도 작아진다\n",
    "* step에 저장된 값을 row와 column의 next변수에 더하여 값이 넘어갔을 경우 조건문에 들어가지 않도록 코딩.\n",
    "    나는 x(row)와 y(c의 값이 "
   ]
  }
 ],
 "metadata": {
  "kernelspec": {
   "display_name": "Python 3 (ipykernel)",
   "language": "python",
   "name": "python3"
  },
  "language_info": {
   "codemirror_mode": {
    "name": "ipython",
    "version": 3
   },
   "file_extension": ".py",
   "mimetype": "text/x-python",
   "name": "python",
   "nbconvert_exporter": "python",
   "pygments_lexer": "ipython3",
   "version": "3.9.13"
  }
 },
 "nbformat": 4,
 "nbformat_minor": 5
}
