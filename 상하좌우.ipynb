{
 "cells": [
  {
   "cell_type": "markdown",
   "id": "5386c69c-45a7-4c93-8d48-fdf1a1af239c",
   "metadata": {},
   "source": [
    "# 상하좌우 - 구현"
   ]
  },
  {
   "cell_type": "code",
   "execution_count": 2,
   "id": "487f7381-3256-4534-a7da-0d398353435f",
   "metadata": {},
   "outputs": [],
   "source": [
    "n = 5\n",
    "info = \"R R R U D D\""
   ]
  },
  {
   "cell_type": "markdown",
   "id": "63650b0a-5d72-44cc-ab6b-d725120c310d",
   "metadata": {},
   "source": [
    "## 내가 작성한 코드"
   ]
  },
  {
   "cell_type": "code",
   "execution_count": 9,
   "id": "4959a954-b1dd-4043-bf33-2d4f9d867bf5",
   "metadata": {},
   "outputs": [
    {
     "name": "stdout",
     "output_type": "stream",
     "text": [
      "x =  3  | y =  4\n"
     ]
    }
   ],
   "source": [
    "x = 1\n",
    "y = 1\n",
    "\n",
    "where = list(map(str, info.split()))\n",
    "\n",
    "for i in range(len(where)):\n",
    "    if where[i] == 'R' and y < n:\n",
    "        y += 1\n",
    "    elif where[i] == 'L' and y > 1:\n",
    "        y -= 1\n",
    "    elif where[i] == 'U' and x > 1:\n",
    "        x -= 1\n",
    "    elif where[i] == 'D' and x < n:\n",
    "        x += 1\n",
    "print('x = ' , x, ' | y = ' , y)"
   ]
  },
  {
   "cell_type": "markdown",
   "id": "0f4e2441-774b-42ea-a966-34b793921158",
   "metadata": {},
   "source": [
    "## 문제 해설 - 1"
   ]
  },
  {
   "cell_type": "code",
   "execution_count": 21,
   "id": "0bcf7929-fa24-4bc4-9504-c1426a60ce0e",
   "metadata": {},
   "outputs": [
    {
     "name": "stdin",
     "output_type": "stream",
     "text": [
      " 5\n",
      " R R R U D D\n"
     ]
    },
    {
     "name": "stdout",
     "output_type": "stream",
     "text": [
      "1 2\n",
      "1 3\n",
      "1 4\n",
      "2 4\n",
      "3 4\n",
      "3 4\n"
     ]
    }
   ],
   "source": [
    "n = int(input())\n",
    "x,y = 1, 1\n",
    "plans = input().split()\n",
    "\n",
    "# L, R, U, D에 따른 이동 방향\n",
    "dx = [0, 0, -1, 1]\n",
    "dy = [-1, 1, 0, 0]\n",
    "move_types = ['L', 'R', 'U', 'D']\n",
    "\n",
    "# 이동 계획을 하나씩 확인\n",
    "for plan in plans:\n",
    "    for i in range(len(move_types)):\n",
    "        if plan == move_types[i]:\n",
    "            nx = x + dx[i]\n",
    "            ny = y + dy[i]\n",
    "    # 공간을 벗어나는 경우 무시\n",
    "    if nx < 1 or ny < 1 or nx > n or ny > n:\n",
    "        continue\n",
    "    # 이동 수행\n",
    "    x, y = nx, ny\n",
    "    print(x,y)\n",
    "\n",
    "print(x, y)"
   ]
  },
  {
   "cell_type": "markdown",
   "id": "93cc0b08-60bf-41c0-a360-185cf171439e",
   "metadata": {},
   "source": [
    "* 내가 작성한 코드는 조건문이 2개씩 합쳐져 마지막 조건을 탐색하기 위해 8번의 조건을\n",
    "    비교해야 할 수 있는데 문제의 해설대로 문제를 푼다면 2번만에 마지막 조건에 도달할 수 있음"
   ]
  },
  {
   "cell_type": "code",
   "execution_count": null,
   "id": "ac7f9030-6670-41af-a06a-d3e45a16705f",
   "metadata": {},
   "outputs": [],
   "source": []
  }
 ],
 "metadata": {
  "kernelspec": {
   "display_name": "Python 3 (ipykernel)",
   "language": "python",
   "name": "python3"
  },
  "language_info": {
   "codemirror_mode": {
    "name": "ipython",
    "version": 3
   },
   "file_extension": ".py",
   "mimetype": "text/x-python",
   "name": "python",
   "nbconvert_exporter": "python",
   "pygments_lexer": "ipython3",
   "version": "3.9.13"
  }
 },
 "nbformat": 4,
 "nbformat_minor": 5
}
