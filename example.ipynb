{
 "cells": [
  {
   "cell_type": "code",
   "execution_count": null,
   "metadata": {},
   "outputs": [],
   "source": [
    "투포인터 이동시키며 다더한다. 그리고 조건충족되면 확인 길이보다 길면 start이동 길이보다 짧으면 result + 1하고 end를 늘림"
   ]
  },
  {
   "cell_type": "code",
   "execution_count": 60,
   "metadata": {},
   "outputs": [
    {
     "name": "stdout",
     "output_type": "stream",
     "text": [
      "2\n",
      "0.0018985271 sec\n"
     ]
    }
   ],
   "source": [
    "import math\n",
    "import time\n",
    "\n",
    "s, p = map(int, input().split()) # s = dna 문자열의 길이, p = 비밀번호 부분 문자열의 길이\n",
    "dna = input() # dna 입력\n",
    "ncount = list(map(int, input().split())) # DNA A,C,G,T 각각의 필요조건 입력\n",
    "\n",
    "clocks = time.time()\n",
    "result = 0 # 부분 문자열의 갯수를 더해줄 변수\n",
    "count = {\"A\":ncount[0], \"C\":ncount[1], \"G\":ncount[2], \"T\":ncount[3]} # 딕셔너리에 해당 값들 저장\n",
    "\n",
    "end = 0\n",
    "for start in range(len(dna)-p+1):\n",
    "    while end < len(dna):\n",
    "        count[dna[end]] -= 1\n",
    "        if count[\"A\"] < 1 and count[\"C\"] < 1 and count[\"G\"] < 1 and count[\"T\"] < 1: # 조건에 충족한다면?\n",
    "            if end-start+1 > p: # 조건을 충족한 문자열의 길이가 부분 문자열 길이보다 길다면\n",
    "                count[dna[start]] += 1\n",
    "                break # break -> start 증가로 이어짐\n",
    "            else: # 조건을 충족한 문자열의 길이가 부분 문자열 길이보다 짧거나 같다면 result를 증가시키고 end를 더해준다.\n",
    "                result += 1\n",
    "                end += 1\n",
    "        else:\n",
    "            end += 1\n",
    "clocke = time.time()\n",
    "print(result)\n",
    "print(f\"{clocke - clocks:.10f} sec\")"
   ]
  },
  {
   "cell_type": "code",
   "execution_count": 99,
   "metadata": {},
   "outputs": [
    {
     "name": "stdout",
     "output_type": "stream",
     "text": [
      "2\n",
      "0.0010025501 sec\n"
     ]
    }
   ],
   "source": [
    "s, p = map(int, input().split())\n",
    "dna = input()\n",
    "ncount = list(map(int, input().split()))\n",
    "result = 0\n",
    "start = time.time()\n",
    "count = {\"A\":ncount[0], \"C\":ncount[1], \"G\":ncount[2], \"T\":ncount[3]}\n",
    "\n",
    "for i in range(len(dna)-p+1):\n",
    "    copy_count = count\n",
    "    password = dna[i:i+p]\n",
    "    for j in range(len(password)):\n",
    "        copy_count[password[j]] -= 1\n",
    "        if copy_count[\"A\"] < 1 and copy_count[\"C\"] < 1 and copy_count[\"G\"] < 1 and copy_count[\"T\"] < 1:\n",
    "            result += 1\n",
    "            break\n",
    "end = time.time()\n",
    "print(result)\n",
    "print(f\"{end - start:.10f} sec\")"
   ]
  },
  {
   "cell_type": "code",
   "execution_count": 42,
   "metadata": {},
   "outputs": [
    {
     "name": "stdout",
     "output_type": "stream",
     "text": [
      "0\n"
     ]
    }
   ],
   "source": [
    "palindrome = input()\n",
    "\n",
    "head = 0\n",
    "tail = len(palindrome)-1\n",
    "result = 0\n",
    "if len(palindrome) == 1:\n",
    "    result = 1\n",
    "else:\n",
    "    while head < tail:\n",
    "        if palindrome[head] == palindrome[tail]:\n",
    "            head += 1\n",
    "            tail -= 1\n",
    "            result = 1\n",
    "        else:\n",
    "            result = 0\n",
    "            break\n",
    "print(result)"
   ]
  },
  {
   "cell_type": "code",
   "execution_count": 32,
   "metadata": {},
   "outputs": [
    {
     "name": "stdout",
     "output_type": "stream",
     "text": [
      "-1\n"
     ]
    }
   ],
   "source": [
    "t = int(input())\n",
    "\n",
    "cnt = 0\n",
    "time = [5*60, 1*60, 10]\n",
    "timecnt = [0,0,0]\n",
    "if t%10 != 0:\n",
    "    print(-1)\n",
    "else:\n",
    "    for i in range(len(time)):\n",
    "        while t-time[i]>= 0:\n",
    "            t -= time[i]\n",
    "            timecnt[i] += 1\n",
    "    print(*timecnt)    "
   ]
  },
  {
   "cell_type": "code",
   "execution_count": 51,
   "metadata": {},
   "outputs": [
    {
     "name": "stdout",
     "output_type": "stream",
     "text": [
      "Korea\n"
     ]
    }
   ],
   "source": [
    "t = int(input())\n",
    "\n",
    "for i in range(t):\n",
    "    n = int(input())\n",
    "    schooldict = {}\n",
    "    for j in range(n):\n",
    "        name, drink = input().split()\n",
    "        drink = int(drink)\n",
    "        schooldict[name] = drink\n",
    "    reversedict = {v:k for k,v in schooldict.items()}\n",
    "    print(reversedict[max(schooldict.values())])"
   ]
  }
 ],
 "metadata": {
  "kernelspec": {
   "display_name": "base",
   "language": "python",
   "name": "python3"
  },
  "language_info": {
   "codemirror_mode": {
    "name": "ipython",
    "version": 3
   },
   "file_extension": ".py",
   "mimetype": "text/x-python",
   "name": "python",
   "nbconvert_exporter": "python",
   "pygments_lexer": "ipython3",
   "version": "3.9.13"
  },
  "orig_nbformat": 4
 },
 "nbformat": 4,
 "nbformat_minor": 2
}
